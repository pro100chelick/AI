{
  "nbformat": 4,
  "nbformat_minor": 0,
  "metadata": {
    "colab": {
      "provenance": [],
      "authorship_tag": "ABX9TyOB0g+BUy+zqT3oYpytvt2T",
      "include_colab_link": true
    },
    "kernelspec": {
      "name": "python3",
      "display_name": "Python 3"
    },
    "language_info": {
      "name": "python"
    }
  },
  "cells": [
    {
      "cell_type": "markdown",
      "metadata": {
        "id": "view-in-github",
        "colab_type": "text"
      },
      "source": [
        "<a href=\"https://colab.research.google.com/github/pro100chelick/AI/blob/main/Ostritskyi_B_lab1_1.ipynb\" target=\"_parent\"><img src=\"https://colab.research.google.com/assets/colab-badge.svg\" alt=\"Open In Colab\"/></a>"
      ]
    },
    {
      "cell_type": "code",
      "execution_count": null,
      "metadata": {
        "colab": {
          "base_uri": "https://localhost:8080/"
        },
        "id": "9TVjZoh35zmJ",
        "outputId": "c4c6fe55-4df7-43f1-d742-39be910bf68f"
      },
      "outputs": [
        {
          "output_type": "stream",
          "name": "stdout",
          "text": [
            "Введіть координати вершини 1 (x y): 1.25 2\n",
            "Введіть координати вершини 2 (x y): 2.85 6\n",
            "Введіть координати вершини 3 (x y): 1 7\n",
            "Введіть координати вершини 4 (x y): 8.09 5\n",
            "Площа чотирикутника: 12.975\n"
          ]
        }
      ],
      "source": [
        "def quadrangle_area(coords):\n",
        "    if len(coords) != 4:\n",
        "        raise ValueError(\"Необхідно ввести рівно 4 вершини\")\n",
        "    x1, y1 = coords[0]\n",
        "    x2, y2 = coords[1]\n",
        "    x3, y3 = coords[2]\n",
        "    x4, y4 = coords[3]\n",
        "    area = abs((x1*y2 + x2*y3 + x3*y4 + x4*y1) - (y1*x2 + y2*x3 + y3*x4 + y4*x1)) / 2\n",
        "    return round(area, 3)\n",
        "vertices = []\n",
        "for i in range(4):\n",
        "    x, y = map(float, input(f\"Введіть координати вершини {i+1} (x y): \").split())\n",
        "    vertices.append((x, y))\n",
        "print(\"Площа чотирикутника:\", quadrangle_area(vertices))"
      ]
    }
  ]
}