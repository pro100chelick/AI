{
  "nbformat": 4,
  "nbformat_minor": 0,
  "metadata": {
    "colab": {
      "provenance": [],
      "authorship_tag": "ABX9TyOR0gmUOTLWW7tDtqSkgl1Z",
      "include_colab_link": true
    },
    "kernelspec": {
      "name": "python3",
      "display_name": "Python 3"
    },
    "language_info": {
      "name": "python"
    }
  },
  "cells": [
    {
      "cell_type": "markdown",
      "metadata": {
        "id": "view-in-github",
        "colab_type": "text"
      },
      "source": [
        "<a href=\"https://colab.research.google.com/github/pro100chelick/AI/blob/main/Ostritskyi_B_lab1_2.ipynb\" target=\"_parent\"><img src=\"https://colab.research.google.com/assets/colab-badge.svg\" alt=\"Open In Colab\"/></a>"
      ]
    },
    {
      "cell_type": "code",
      "execution_count": 3,
      "metadata": {
        "colab": {
          "base_uri": "https://localhost:8080/"
        },
        "id": "weijqMGe-0FX",
        "outputId": "db076e7d-1aec-41ad-9865-b7ac6507a954"
      },
      "outputs": [
        {
          "output_type": "stream",
          "name": "stdout",
          "text": [
            "Введіть номер місяця (1-12): 6\n",
            "Summer\n"
          ]
        }
      ],
      "source": [
        "month = int(input(\"Введіть номер місяця (1-12): \"))\n",
        "\n",
        "if 3 <= month <= 5:\n",
        "    print(\"Spring\")\n",
        "elif 6 <= month <= 8:\n",
        "    print(\"Summer\")\n",
        "elif 9 <= month <= 11:\n",
        "    print(\"Autumn\")\n",
        "elif month == 12 or month == 1 or month == 2:\n",
        "    print(\"Winter\")\n",
        "else:\n",
        "    print(\"Невірний номер місяця!\")\n"
      ]
    }
  ]
}