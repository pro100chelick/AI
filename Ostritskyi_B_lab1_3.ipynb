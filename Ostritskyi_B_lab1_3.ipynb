{
  "nbformat": 4,
  "nbformat_minor": 0,
  "metadata": {
    "colab": {
      "provenance": [],
      "authorship_tag": "ABX9TyPD6JWFwlTY/upHeCzdfyfh",
      "include_colab_link": true
    },
    "kernelspec": {
      "name": "python3",
      "display_name": "Python 3"
    },
    "language_info": {
      "name": "python"
    }
  },
  "cells": [
    {
      "cell_type": "markdown",
      "metadata": {
        "id": "view-in-github",
        "colab_type": "text"
      },
      "source": [
        "<a href=\"https://colab.research.google.com/github/pro100chelick/AI/blob/main/Ostritskyi_B_lab1_3.ipynb\" target=\"_parent\"><img src=\"https://colab.research.google.com/assets/colab-badge.svg\" alt=\"Open In Colab\"/></a>"
      ]
    },
    {
      "cell_type": "code",
      "execution_count": null,
      "metadata": {
        "colab": {
          "base_uri": "https://localhost:8080/"
        },
        "id": "ivENIthC_p7e",
        "outputId": "c2471972-94c1-4477-cac0-d63f3ec673de"
      },
      "outputs": [
        {
          "output_type": "stream",
          "name": "stdout",
          "text": [
            "Гра 'Вгадай число'!\n",
            "Я загадав число від 0 до 9. У тебе є 3 спроби.\n",
            "Спроба 1: Введи своє число: 1\n",
            "Невірно.\n",
            "Спробуй ще раз.\n",
            "Спроба 2: Введи своє число: 6\n",
            "Невірно.\n",
            "Спробуй ще раз.\n",
            "Спроба 3: Введи своє число: 7\n",
            "Невірно.\n",
            "Спроби закінчились. Загадане число було: 5\n"
          ]
        }
      ],
      "source": [
        "import random\n",
        "\n",
        "secret_number = random.randint(0, 9)\n",
        "attempts = 3\n",
        "\n",
        "print(\"Гра 'Вгадай число'!\")\n",
        "print(\"Я загадав число від 0 до 9. У тебе є 3 спроби.\")\n",
        "\n",
        "for attempt in range(1, attempts + 1):\n",
        "    guess = int(input(f\"Спроба {attempt}: Введи своє число: \"))\n",
        "\n",
        "    if guess == secret_number:\n",
        "        print(\"Вітаю! Ти вгадав число!\")\n",
        "        break\n",
        "    else:\n",
        "        print(\"Невірно.\")\n",
        "        if attempt < attempts:\n",
        "            print(\"Спробуй ще раз.\")\n",
        "        else:\n",
        "            print(f\"Спроби закінчились. Загадане число було: {secret_number}\")\n"
      ]
    }
  ]
}