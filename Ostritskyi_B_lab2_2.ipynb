{
  "nbformat": 4,
  "nbformat_minor": 0,
  "metadata": {
    "colab": {
      "provenance": [],
      "authorship_tag": "ABX9TyOhSWPtt1KPG6Y4lWK2tn40",
      "include_colab_link": true
    },
    "kernelspec": {
      "name": "python3",
      "display_name": "Python 3"
    },
    "language_info": {
      "name": "python"
    }
  },
  "cells": [
    {
      "cell_type": "markdown",
      "metadata": {
        "id": "view-in-github",
        "colab_type": "text"
      },
      "source": [
        "<a href=\"https://colab.research.google.com/github/pro100chelick/AI/blob/main/Ostritskyi_B_lab2_2.ipynb\" target=\"_parent\"><img src=\"https://colab.research.google.com/assets/colab-badge.svg\" alt=\"Open In Colab\"/></a>"
      ]
    },
    {
      "cell_type": "code",
      "execution_count": 2,
      "metadata": {
        "colab": {
          "base_uri": "https://localhost:8080/"
        },
        "id": "mWsgVJpSH0NZ",
        "outputId": "4d8cdf6d-6bbc-40d6-c18d-16fd259ec5a8"
      },
      "outputs": [
        {
          "output_type": "stream",
          "name": "stdout",
          "text": [
            "Введіть цілі числа через пропуск: 2 3 4 1\n",
            "Двовимірний список (матриця):\n",
            "[2, 3]\n",
            "[4, 1]\n",
            "Матриця НЕ симетрична відносно не головної діагоналі.\n"
          ]
        }
      ],
      "source": [
        "def is_anti_diagonal_symmetric(matrix):\n",
        "    n = len(matrix)\n",
        "    for i in range(n):\n",
        "        for j in range(n):\n",
        "            if i + j != n - 1 and matrix[i][j] != matrix[n-1-j][n-1-i]:\n",
        "                return False\n",
        "    return True\n",
        "\n",
        "numbers = input(\"Введіть цілі числа через пропуск: \").split()\n",
        "\n",
        "import math\n",
        "length = len(numbers)\n",
        "n = int(math.isqrt(length))\n",
        "\n",
        "if n * n != length:\n",
        "    print(\"Помилка: Кількість чисел має бути квадратом цілого числа (наприклад, 4, 9, 16...).\")\n",
        "else:\n",
        "    numbers = list(map(int, numbers))\n",
        "\n",
        "    matrix = []\n",
        "    for i in range(n):\n",
        "        row = numbers[i*n:(i+1)*n]\n",
        "        matrix.append(row)\n",
        "\n",
        "    print(\"Двовимірний список (матриця):\")\n",
        "    for row in matrix:\n",
        "        print(row)\n",
        "\n",
        "    if is_anti_diagonal_symmetric(matrix):\n",
        "        print(\"Матриця симетрична відносно не головної діагоналі.\")\n",
        "    else:\n",
        "        print(\"Матриця НЕ симетрична відносно не головної діагоналі.\")\n"
      ]
    }
  ]
}