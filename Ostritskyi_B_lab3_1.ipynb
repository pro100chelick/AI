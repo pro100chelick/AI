{
  "nbformat": 4,
  "nbformat_minor": 0,
  "metadata": {
    "colab": {
      "provenance": [],
      "authorship_tag": "ABX9TyMsyHnkxbdBFKzpj9SH4JST",
      "include_colab_link": true
    },
    "kernelspec": {
      "name": "python3",
      "display_name": "Python 3"
    },
    "language_info": {
      "name": "python"
    }
  },
  "cells": [
    {
      "cell_type": "markdown",
      "metadata": {
        "id": "view-in-github",
        "colab_type": "text"
      },
      "source": [
        "<a href=\"https://colab.research.google.com/github/pro100chelick/AI/blob/main/Ostritskyi_B_lab3_1.ipynb\" target=\"_parent\"><img src=\"https://colab.research.google.com/assets/colab-badge.svg\" alt=\"Open In Colab\"/></a>"
      ]
    },
    {
      "cell_type": "code",
      "execution_count": 5,
      "metadata": {
        "colab": {
          "base_uri": "https://localhost:8080/"
        },
        "id": "xbvKpb5JuXqn",
        "outputId": "c6569a8b-90d8-4eeb-ab37-bfd143ae4aed"
      },
      "outputs": [
        {
          "output_type": "stream",
          "name": "stdout",
          "text": [
            "1 4 -5 9 5  0\n",
            "5 9 -5 4 1\n"
          ]
        }
      ],
      "source": [
        "def reverse_sequence(seq, result):\n",
        "    num = seq.pop(0)\n",
        "    if num != 0:\n",
        "        reverse_sequence(seq, result)\n",
        "        result.append(str(num))\n",
        "\n",
        "sequence = list(map(int, input().split()))\n",
        "result = []\n",
        "\n",
        "reverse_sequence(sequence, result)\n",
        "print(' '.join(result))\n"
      ]
    }
  ]
}