{
  "nbformat": 4,
  "nbformat_minor": 0,
  "metadata": {
    "colab": {
      "provenance": [],
      "authorship_tag": "ABX9TyO5/3SPFHlZBPxzNX2BCcgP",
      "include_colab_link": true
    },
    "kernelspec": {
      "name": "python3",
      "display_name": "Python 3"
    },
    "language_info": {
      "name": "python"
    }
  },
  "cells": [
    {
      "cell_type": "markdown",
      "metadata": {
        "id": "view-in-github",
        "colab_type": "text"
      },
      "source": [
        "<a href=\"https://colab.research.google.com/github/pro100chelick/AI/blob/main/Ostritskyi_B_lab3_2.ipynb\" target=\"_parent\"><img src=\"https://colab.research.google.com/assets/colab-badge.svg\" alt=\"Open In Colab\"/></a>"
      ]
    },
    {
      "cell_type": "code",
      "execution_count": 2,
      "metadata": {
        "id": "6Zzdz2UNv0Uk",
        "colab": {
          "base_uri": "https://localhost:8080/"
        },
        "outputId": "2a890950-23dd-4323-c394-dd330677cb7f"
      },
      "outputs": [
        {
          "output_type": "stream",
          "name": "stdout",
          "text": [
            "[(5, 3), (1, 7), (2, 8), (3, 9)]\n"
          ]
        }
      ],
      "source": [
        "def sort_by_second_element(tuples_list):\n",
        "    length = len(tuples_list)\n",
        "    for i in range(length):\n",
        "        for j in range(0, length - i - 1):\n",
        "\n",
        "            if tuples_list[j][1] > tuples_list[j + 1][1]:\n",
        "                tuples_list[j], tuples_list[j + 1] = tuples_list[j + 1], tuples_list[j]\n",
        "    return tuples_list\n",
        "tuples = [(3, 9), (1, 7), (5, 3), (2, 8)]\n",
        "sorted_tuples = sort_by_second_element(tuples)\n",
        "print(sorted_tuples)\n"
      ]
    }
  ]
}