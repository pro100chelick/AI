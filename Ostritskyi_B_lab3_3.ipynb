{
  "nbformat": 4,
  "nbformat_minor": 0,
  "metadata": {
    "colab": {
      "provenance": [],
      "authorship_tag": "ABX9TyN2gUu6TjEBwHoyC03K0/ba",
      "include_colab_link": true
    },
    "kernelspec": {
      "name": "python3",
      "display_name": "Python 3"
    },
    "language_info": {
      "name": "python"
    }
  },
  "cells": [
    {
      "cell_type": "markdown",
      "metadata": {
        "id": "view-in-github",
        "colab_type": "text"
      },
      "source": [
        "<a href=\"https://colab.research.google.com/github/pro100chelick/AI/blob/main/Ostritskyi_B_lab3_3.ipynb\" target=\"_parent\"><img src=\"https://colab.research.google.com/assets/colab-badge.svg\" alt=\"Open In Colab\"/></a>"
      ]
    },
    {
      "cell_type": "code",
      "execution_count": null,
      "metadata": {
        "id": "6Zzdz2UNv0Uk",
        "colab": {
          "base_uri": "https://localhost:8080/"
        },
        "outputId": "19073eda-eace-4c20-b2dc-401674e8f4ce"
      },
      "outputs": [
        {
          "output_type": "stream",
          "name": "stdout",
          "text": [
            "Введіть число: 10\n",
            "2 + 2 + 2 + 2 + 2\n"
          ]
        }
      ],
      "source": [
        "def is_prime(n):\n",
        "    if n <= 1:\n",
        "        return False\n",
        "    for i in range(2, n):\n",
        "        if n % i == 0:\n",
        "            return False\n",
        "    return True\n",
        "\n",
        "def find_primes(limit):\n",
        "    primes = []\n",
        "    for i in range(2, limit + 1):\n",
        "        if is_prime(i):\n",
        "            primes.append(i)\n",
        "    return primes\n",
        "\n",
        "def find_partition(n, primes, partition):\n",
        "    if n == 0:\n",
        "        return partition\n",
        "    for prime in primes:\n",
        "        if prime <= n:\n",
        "            result = find_partition(n - prime, primes, partition + [prime])\n",
        "            if result:\n",
        "                return result\n",
        "    return []\n",
        "\n",
        "def sum_of_primes(n):\n",
        "    primes = find_primes(n)\n",
        "    partition = find_partition(n, primes, [])\n",
        "\n",
        "    if partition:\n",
        "        print(\" + \".join(map(str, partition)))\n",
        "    else:\n",
        "        print(\"Немає розбиття на прості числа.\")\n",
        "\n",
        "n = int(input(\"Введіть число: \"))\n",
        "sum_of_primes(n)\n"
      ]
    }
  ]
}