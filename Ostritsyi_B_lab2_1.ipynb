{
  "nbformat": 4,
  "nbformat_minor": 0,
  "metadata": {
    "colab": {
      "provenance": [],
      "authorship_tag": "ABX9TyMGGPU32ZLw6tpi6Z+EDR/X",
      "include_colab_link": true
    },
    "kernelspec": {
      "name": "python3",
      "display_name": "Python 3"
    },
    "language_info": {
      "name": "python"
    }
  },
  "cells": [
    {
      "cell_type": "markdown",
      "metadata": {
        "id": "view-in-github",
        "colab_type": "text"
      },
      "source": [
        "<a href=\"https://colab.research.google.com/github/pro100chelick/AI/blob/main/Ostritsyi_B_lab2_1.ipynb\" target=\"_parent\"><img src=\"https://colab.research.google.com/assets/colab-badge.svg\" alt=\"Open In Colab\"/></a>"
      ]
    },
    {
      "cell_type": "code",
      "execution_count": 1,
      "metadata": {
        "colab": {
          "base_uri": "https://localhost:8080/"
        },
        "id": "5l4N3Rxs187m",
        "outputId": "e96bd56d-d81a-4a62-dfa9-3ee7e71b6d84"
      },
      "outputs": [
        {
          "output_type": "stream",
          "name": "stdout",
          "text": [
            "Початковий список:\n",
            "[94.28758941200729, 7.692924421184333, 89.02610861687539, 76.64940666174455, 26.874766723293998, 73.28942804711424, 48.0176562574072, 30.361430460126794, 96.11504832941871, 72.90615360606849, 15.94413748194915, 45.83171816097034, 9.376145824087656, 23.46523441922529, 36.73562093930094]\n",
            "\n",
            "Відсортований список за спаданням:\n",
            "[96.11504832941871, 94.28758941200729, 89.02610861687539, 76.64940666174455, 73.28942804711424, 72.90615360606849, 48.0176562574072, 45.83171816097034, 36.73562093930094, 30.361430460126794, 26.874766723293998, 23.46523441922529, 15.94413748194915, 9.376145824087656, 7.692924421184333]\n",
            "\n",
            "Елементи з непарними індексами:\n",
            "Індекс 1: 94.28758941200729\n",
            "Індекс 3: 76.64940666174455\n",
            "Індекс 5: 72.90615360606849\n",
            "Індекс 7: 45.83171816097034\n",
            "Індекс 9: 30.361430460126794\n",
            "Індекс 11: 23.46523441922529\n",
            "Індекс 13: 9.376145824087656\n"
          ]
        }
      ],
      "source": [
        "import random\n",
        "numbers = [random.uniform(0, 100) for _ in range(15)]\n",
        "print(\"Початковий список:\")\n",
        "print(numbers)\n",
        "numbers.sort(reverse=True)\n",
        "print(\"\\nВідсортований список за спаданням:\")\n",
        "print(numbers)\n",
        "print(\"\\nЕлементи з непарними індексами:\")\n",
        "for i in range(1, len(numbers), 2):\n",
        "    print(f\"Індекс {i}: {numbers[i]}\")\n"
      ]
    }
  ]
}