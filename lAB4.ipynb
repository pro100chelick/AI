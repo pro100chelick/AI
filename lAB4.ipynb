{
  "nbformat": 4,
  "nbformat_minor": 0,
  "metadata": {
    "colab": {
      "provenance": [],
      "authorship_tag": "ABX9TyMl/WSgPDClE240BkbJmtP/",
      "include_colab_link": true
    },
    "kernelspec": {
      "name": "python3",
      "display_name": "Python 3"
    },
    "language_info": {
      "name": "python"
    }
  },
  "cells": [
    {
      "cell_type": "markdown",
      "metadata": {
        "id": "view-in-github",
        "colab_type": "text"
      },
      "source": [
        "<a href=\"https://colab.research.google.com/github/pro100chelick/AI/blob/main/lAB4.ipynb\" target=\"_parent\"><img src=\"https://colab.research.google.com/assets/colab-badge.svg\" alt=\"Open In Colab\"/></a>"
      ]
    },
    {
      "cell_type": "code",
      "execution_count": 4,
      "metadata": {
        "colab": {
          "base_uri": "https://localhost:8080/",
          "height": 755
        },
        "id": "g2_4cJBPws4R",
        "outputId": "7e3bb3f7-b296-4212-cbb2-67d72681afac"
      },
      "outputs": [
        {
          "output_type": "stream",
          "name": "stdout",
          "text": [
            "#########################\n",
            "#P  #           #       #\n",
            "### ### ####### ### #####\n",
            "#   #   #     #   #     #\n",
            "# ### ### ### ### # ### #\n",
            "# #     # #   # # # #   #\n",
            "# ##### # # ### # ### ###\n",
            "#       # #     #   #   #\n",
            "######### ######### # # #\n",
            "#   #   #     #   # # # #\n",
            "# # ### # ### # # # ### #\n",
            "# # #   # # #   # # #   #\n",
            "# # # ### # ##### # # # #\n",
            "# #   #       #   # # # #\n",
            "# ##### ####### # # # # #\n",
            "#   #   #       # # # # #\n",
            "# # # ### ##### ### # ###\n",
            "# #     # #   # #   #   #\n",
            "######### # # # # ### # #\n",
            "#         # # # # #   # #\n",
            "# ######### # # # ##### #\n",
            "# #   #     # # # #     #\n",
            "# # # # ##### ### # ### #\n",
            "#   #       #       #  E#\n",
            "#########################\n"
          ]
        },
        {
          "output_type": "error",
          "ename": "KeyboardInterrupt",
          "evalue": "Interrupted by user",
          "traceback": [
            "\u001b[0;31m---------------------------------------------------------------------------\u001b[0m",
            "\u001b[0;31mKeyboardInterrupt\u001b[0m                         Traceback (most recent call last)",
            "\u001b[0;32m<ipython-input-4-4e7772ab9adf>\u001b[0m in \u001b[0;36m<cell line: 0>\u001b[0;34m()\u001b[0m\n\u001b[1;32m     76\u001b[0m \u001b[0;34m\u001b[0m\u001b[0m\n\u001b[1;32m     77\u001b[0m \u001b[0;32mif\u001b[0m \u001b[0m__name__\u001b[0m \u001b[0;34m==\u001b[0m \u001b[0;34m\"__main__\"\u001b[0m\u001b[0;34m:\u001b[0m\u001b[0;34m\u001b[0m\u001b[0;34m\u001b[0m\u001b[0m\n\u001b[0;32m---> 78\u001b[0;31m     \u001b[0mmain\u001b[0m\u001b[0;34m(\u001b[0m\u001b[0;34m)\u001b[0m\u001b[0;34m\u001b[0m\u001b[0;34m\u001b[0m\u001b[0m\n\u001b[0m",
            "\u001b[0;32m<ipython-input-4-4e7772ab9adf>\u001b[0m in \u001b[0;36mmain\u001b[0;34m()\u001b[0m\n\u001b[1;32m     53\u001b[0m             \u001b[0mprint\u001b[0m\u001b[0;34m(\u001b[0m\u001b[0;34m\"Вітаємо! Ви знайшли вихід з лабіринту!\"\u001b[0m\u001b[0;34m)\u001b[0m\u001b[0;34m\u001b[0m\u001b[0;34m\u001b[0m\u001b[0m\n\u001b[1;32m     54\u001b[0m             \u001b[0;32mbreak\u001b[0m\u001b[0;34m\u001b[0m\u001b[0;34m\u001b[0m\u001b[0m\n\u001b[0;32m---> 55\u001b[0;31m         \u001b[0mmove\u001b[0m \u001b[0;34m=\u001b[0m \u001b[0minput\u001b[0m\u001b[0;34m(\u001b[0m\u001b[0;34m\"Ваш хід (WASD): \"\u001b[0m\u001b[0;34m)\u001b[0m\u001b[0;34m.\u001b[0m\u001b[0mupper\u001b[0m\u001b[0;34m(\u001b[0m\u001b[0;34m)\u001b[0m\u001b[0;34m\u001b[0m\u001b[0;34m\u001b[0m\u001b[0m\n\u001b[0m\u001b[1;32m     56\u001b[0m         \u001b[0mdx\u001b[0m\u001b[0;34m,\u001b[0m \u001b[0mdy\u001b[0m \u001b[0;34m=\u001b[0m \u001b[0;36m0\u001b[0m\u001b[0;34m,\u001b[0m \u001b[0;36m0\u001b[0m\u001b[0;34m\u001b[0m\u001b[0;34m\u001b[0m\u001b[0m\n\u001b[1;32m     57\u001b[0m         \u001b[0;32mif\u001b[0m \u001b[0mmove\u001b[0m \u001b[0;34m==\u001b[0m \u001b[0;34m'W'\u001b[0m\u001b[0;34m:\u001b[0m\u001b[0;34m\u001b[0m\u001b[0;34m\u001b[0m\u001b[0m\n",
            "\u001b[0;32m/usr/local/lib/python3.11/dist-packages/ipykernel/kernelbase.py\u001b[0m in \u001b[0;36mraw_input\u001b[0;34m(self, prompt)\u001b[0m\n\u001b[1;32m   1175\u001b[0m                 \u001b[0;34m\"raw_input was called, but this frontend does not support input requests.\"\u001b[0m\u001b[0;34m\u001b[0m\u001b[0;34m\u001b[0m\u001b[0m\n\u001b[1;32m   1176\u001b[0m             )\n\u001b[0;32m-> 1177\u001b[0;31m         return self._input_request(\n\u001b[0m\u001b[1;32m   1178\u001b[0m             \u001b[0mstr\u001b[0m\u001b[0;34m(\u001b[0m\u001b[0mprompt\u001b[0m\u001b[0;34m)\u001b[0m\u001b[0;34m,\u001b[0m\u001b[0;34m\u001b[0m\u001b[0;34m\u001b[0m\u001b[0m\n\u001b[1;32m   1179\u001b[0m             \u001b[0mself\u001b[0m\u001b[0;34m.\u001b[0m\u001b[0m_parent_ident\u001b[0m\u001b[0;34m[\u001b[0m\u001b[0;34m\"shell\"\u001b[0m\u001b[0;34m]\u001b[0m\u001b[0;34m,\u001b[0m\u001b[0;34m\u001b[0m\u001b[0;34m\u001b[0m\u001b[0m\n",
            "\u001b[0;32m/usr/local/lib/python3.11/dist-packages/ipykernel/kernelbase.py\u001b[0m in \u001b[0;36m_input_request\u001b[0;34m(self, prompt, ident, parent, password)\u001b[0m\n\u001b[1;32m   1217\u001b[0m             \u001b[0;32mexcept\u001b[0m \u001b[0mKeyboardInterrupt\u001b[0m\u001b[0;34m:\u001b[0m\u001b[0;34m\u001b[0m\u001b[0;34m\u001b[0m\u001b[0m\n\u001b[1;32m   1218\u001b[0m                 \u001b[0;31m# re-raise KeyboardInterrupt, to truncate traceback\u001b[0m\u001b[0;34m\u001b[0m\u001b[0;34m\u001b[0m\u001b[0m\n\u001b[0;32m-> 1219\u001b[0;31m                 \u001b[0;32mraise\u001b[0m \u001b[0mKeyboardInterrupt\u001b[0m\u001b[0;34m(\u001b[0m\u001b[0;34m\"Interrupted by user\"\u001b[0m\u001b[0;34m)\u001b[0m \u001b[0;32mfrom\u001b[0m \u001b[0;32mNone\u001b[0m\u001b[0;34m\u001b[0m\u001b[0;34m\u001b[0m\u001b[0m\n\u001b[0m\u001b[1;32m   1220\u001b[0m             \u001b[0;32mexcept\u001b[0m \u001b[0mException\u001b[0m\u001b[0;34m:\u001b[0m\u001b[0;34m\u001b[0m\u001b[0;34m\u001b[0m\u001b[0m\n\u001b[1;32m   1221\u001b[0m                 \u001b[0mself\u001b[0m\u001b[0;34m.\u001b[0m\u001b[0mlog\u001b[0m\u001b[0;34m.\u001b[0m\u001b[0mwarning\u001b[0m\u001b[0;34m(\u001b[0m\u001b[0;34m\"Invalid Message:\"\u001b[0m\u001b[0;34m,\u001b[0m \u001b[0mexc_info\u001b[0m\u001b[0;34m=\u001b[0m\u001b[0;32mTrue\u001b[0m\u001b[0;34m)\u001b[0m\u001b[0;34m\u001b[0m\u001b[0;34m\u001b[0m\u001b[0m\n",
            "\u001b[0;31mKeyboardInterrupt\u001b[0m: Interrupted by user"
          ]
        }
      ],
      "source": [
        "import random\n",
        "import os\n",
        "\n",
        "WIDTH, HEIGHT = 25, 25\n",
        "WALL, PATH, PLAYER, EXIT = '#', ' ', 'P', 'E'\n",
        "\n",
        "# Функція для створення порожнього лабіринту\n",
        "def create_empty_maze():\n",
        "    return [[WALL for _ in range(WIDTH)] for _ in range(HEIGHT)]\n",
        "\n",
        "# Алгоритм генерації лабіринту (DFS на решітці)\n",
        "def generate_maze():\n",
        "    maze = create_empty_maze()\n",
        "    def carve(x, y):\n",
        "        dirs = [(0, 2), (0, -2), (2, 0), (-2, 0)]\n",
        "        random.shuffle(dirs)\n",
        "        for dx, dy in dirs:\n",
        "            nx, ny = x + dx, y + dy\n",
        "            if 1 <= nx < WIDTH-1 and 1 <= ny < HEIGHT-1:\n",
        "                if maze[ny][nx] == WALL:\n",
        "                    maze[ny][nx] = PATH\n",
        "                    maze[y + dy//2][x + dx//2] = PATH\n",
        "                    carve(nx, ny)\n",
        "\n",
        "    maze[1][1] = PATH  # Вхід\n",
        "    carve(1, 1)\n",
        "    maze[1][1] = PATH\n",
        "    maze[HEIGHT-2][WIDTH-2] = EXIT  # Вихід\n",
        "    return maze\n",
        "\n",
        "# Виведення лабіринту\n",
        "def print_maze(maze, player_pos):\n",
        "    os.system('cls' if os.name == 'nt' else 'clear')\n",
        "    for y in range(HEIGHT):\n",
        "        row = ''\n",
        "        for x in range(WIDTH):\n",
        "            if (x, y) == player_pos:\n",
        "                row += PLAYER\n",
        "            else:\n",
        "                row += maze[y][x]\n",
        "        print(row)\n",
        "\n",
        "# Перевірка на допустимість ходу\n",
        "def can_move(maze, x, y):\n",
        "    return 0 <= x < WIDTH and 0 <= y < HEIGHT and maze[y][x] != WALL\n",
        "\n",
        "def main():\n",
        "    maze = generate_maze()\n",
        "    player_pos = [1, 1]  # Початкова позиція\n",
        "    while True:\n",
        "        print_maze(maze, tuple(player_pos))\n",
        "        if maze[player_pos[1]][player_pos[0]] == EXIT:\n",
        "            print(\"Вітаємо! Ви знайшли вихід з лабіринту!\")\n",
        "            break\n",
        "        move = input(\"Ваш хід (WASD): \").upper()\n",
        "        dx, dy = 0, 0\n",
        "        if move == 'W':\n",
        "            dy = -1\n",
        "        elif move == 'S':\n",
        "            dy = 1\n",
        "        elif move == 'A':\n",
        "            dx = -1\n",
        "        elif move == 'D':\n",
        "            dx = 1\n",
        "        else:\n",
        "            print(\"Невірна команда!\")\n",
        "            continue\n",
        "\n",
        "        new_x = player_pos[0] + dx\n",
        "        new_y = player_pos[1] + dy\n",
        "        if can_move(maze, new_x, new_y):\n",
        "            player_pos[0] = new_x\n",
        "            player_pos[1] = new_y\n",
        "        else:\n",
        "            print(\"Стіна! Не можна пройти.\")\n",
        "\n",
        "if __name__ == \"__main__\":\n",
        "    main()"
      ]
    }
  ]
}