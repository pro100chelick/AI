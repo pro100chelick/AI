{
  "nbformat": 4,
  "nbformat_minor": 0,
  "metadata": {
    "colab": {
      "provenance": [],
      "authorship_tag": "ABX9TyM8ihbiYvOzzdXEycmmTf3O",
      "include_colab_link": true
    },
    "kernelspec": {
      "name": "python3",
      "display_name": "Python 3"
    },
    "language_info": {
      "name": "python"
    }
  },
  "cells": [
    {
      "cell_type": "markdown",
      "metadata": {
        "id": "view-in-github",
        "colab_type": "text"
      },
      "source": [
        "<a href=\"https://colab.research.google.com/github/pro100chelick/AI/blob/main/lab2_3.ipynb\" target=\"_parent\"><img src=\"https://colab.research.google.com/assets/colab-badge.svg\" alt=\"Open In Colab\"/></a>"
      ]
    },
    {
      "cell_type": "code",
      "execution_count": 7,
      "metadata": {
        "colab": {
          "base_uri": "https://localhost:8080/"
        },
        "id": "_Dnxmh-I3PGC",
        "outputId": "2e10a7f4-2960-42b4-b994-1c21189730ea"
      },
      "outputs": [
        {
          "output_type": "stream",
          "name": "stdout",
          "text": [
            "Введіть максимальне значення N: 3\n",
            "Введіть цілі числа : 1 2 3 4 \n",
            "Числа Фібоначчі серед введених:\n",
            "[1, 2, 3]\n"
          ]
        }
      ],
      "source": [
        "def is_fibonacci(num):\n",
        "\n",
        "    x1 = 5 * num * num + 4\n",
        "    x2 = 5 * num * num - 4\n",
        "    return is_perfect_square(x1) or is_perfect_square(x2)\n",
        "\n",
        "def is_perfect_square(x):\n",
        "    return int(x**0.5)**2 == x\n",
        "\n",
        "N = int(input(\"Введіть максимальне значення N: \"))\n",
        "numbers = input(\"Введіть цілі числа: \").split(' ')\n",
        "\n",
        "numbers = [int(num.strip()) for num in numbers if num.strip().isdigit() and 1 <= int(num.strip()) <= N]\n",
        "\n",
        "fibonacci_numbers = [num for num in numbers if is_fibonacci(num)]\n",
        "\n",
        "print(\"Числа Фібоначчі серед введених:\")\n",
        "print(fibonacci_numbers)\n"
      ]
    }
  ]
}